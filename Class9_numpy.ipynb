{
 "cells": [
  {
   "cell_type": "code",
   "execution_count": 1,
   "id": "5d09548d-9e32-4889-babb-4bea098ed72a",
   "metadata": {},
   "outputs": [],
   "source": [
    "import numpy as np"
   ]
  },
  {
   "cell_type": "code",
   "execution_count": 2,
   "id": "031d2a11-5e35-410e-a624-3115c74c5b25",
   "metadata": {},
   "outputs": [],
   "source": [
    "x = np.array([[1,2,3,4,5],[6,7,8,9,10],[11,12,13,14,15]])"
   ]
  },
  {
   "cell_type": "code",
   "execution_count": 3,
   "id": "3e893212-8777-4cf6-8c84-205373fc9317",
   "metadata": {},
   "outputs": [
    {
     "data": {
      "text/plain": [
       "array([[ 1,  2,  3,  4,  5],\n",
       "       [ 6,  7,  8,  9, 10],\n",
       "       [11, 12, 13, 14, 15]])"
      ]
     },
     "execution_count": 3,
     "metadata": {},
     "output_type": "execute_result"
    }
   ],
   "source": [
    "x"
   ]
  },
  {
   "cell_type": "code",
   "execution_count": 4,
   "id": "486d83cb-6407-4f36-9bd6-8b20c254424e",
   "metadata": {},
   "outputs": [
    {
     "data": {
      "text/plain": [
       "(2, (3, 5), dtype('int64'), 8)"
      ]
     },
     "execution_count": 4,
     "metadata": {},
     "output_type": "execute_result"
    }
   ],
   "source": [
    "x.ndim,x.shape,x.dtype,x.itemsize"
   ]
  },
  {
   "cell_type": "code",
   "execution_count": 5,
   "id": "8e9eeaa1-8d30-4526-94f4-e292517a9473",
   "metadata": {},
   "outputs": [],
   "source": [
    "y = np.array([[1,2,3,4,5],[6,7,8,9,10],[11,12,13,14,15]])"
   ]
  },
  {
   "cell_type": "code",
   "execution_count": 6,
   "id": "ed58cb2b-0d13-46bc-a5c0-b726bc3f9cf9",
   "metadata": {},
   "outputs": [
    {
     "data": {
      "text/plain": [
       "array([[ 1,  2,  3,  4,  5],\n",
       "       [ 6,  7,  8,  9, 10],\n",
       "       [11, 12, 13, 14, 15]])"
      ]
     },
     "execution_count": 6,
     "metadata": {},
     "output_type": "execute_result"
    }
   ],
   "source": [
    "y"
   ]
  },
  {
   "cell_type": "code",
   "execution_count": 7,
   "id": "ad773817-0edc-4559-99c6-b332a57d1dbc",
   "metadata": {},
   "outputs": [
    {
     "data": {
      "text/plain": [
       "array([[ 9, 12, 16, 50, 16],\n",
       "       [10, 15, 20,  1,  8],\n",
       "       [12, 15, 21, 23, 24]])"
      ]
     },
     "execution_count": 7,
     "metadata": {},
     "output_type": "execute_result"
    }
   ],
   "source": [
    "z = np.array([[9,12,16,50,16],[10,15,20,1,8],[12,15,21,23,24]])\n",
    "z"
   ]
  },
  {
   "cell_type": "code",
   "execution_count": 8,
   "id": "a3925fa1-f7cf-42b4-971a-0256ff001a53",
   "metadata": {},
   "outputs": [
    {
     "data": {
      "text/plain": [
       "array([[10, 14, 19, 54, 21],\n",
       "       [16, 22, 28, 10, 18],\n",
       "       [23, 27, 34, 37, 39]])"
      ]
     },
     "execution_count": 8,
     "metadata": {},
     "output_type": "execute_result"
    }
   ],
   "source": [
    "y+z"
   ]
  },
  {
   "cell_type": "code",
   "execution_count": 9,
   "id": "f205367b-fc68-494f-8d99-333dd016b6cc",
   "metadata": {},
   "outputs": [
    {
     "data": {
      "text/plain": [
       "array([[ -8, -10, -13, -46, -11],\n",
       "       [ -4,  -8, -12,   8,   2],\n",
       "       [ -1,  -3,  -8,  -9,  -9]])"
      ]
     },
     "execution_count": 9,
     "metadata": {},
     "output_type": "execute_result"
    }
   ],
   "source": [
    "y-z"
   ]
  },
  {
   "cell_type": "code",
   "execution_count": 11,
   "id": "cd745d7d-d603-47f1-9ba9-10a13a8fdf63",
   "metadata": {},
   "outputs": [
    {
     "data": {
      "text/plain": [
       "array([[  9,  24,  48, 200,  80],\n",
       "       [ 60, 105, 160,   9,  80],\n",
       "       [132, 180, 273, 322, 360]])"
      ]
     },
     "execution_count": 11,
     "metadata": {},
     "output_type": "execute_result"
    }
   ],
   "source": [
    "y*z #its not matirx multiplication"
   ]
  },
  {
   "cell_type": "code",
   "execution_count": 15,
   "id": "04754586-f24e-4fc4-a6cf-967680bcdde4",
   "metadata": {},
   "outputs": [
    {
     "data": {
      "text/plain": [
       "array([[ 1,  2,  3,  4,  5],\n",
       "       [ 6,  7,  8,  9, 10],\n",
       "       [11, 12, 13, 14, 15]])"
      ]
     },
     "execution_count": 15,
     "metadata": {},
     "output_type": "execute_result"
    }
   ],
   "source": [
    "x"
   ]
  },
  {
   "cell_type": "code",
   "execution_count": 18,
   "id": "8d3968e6-6210-4aa6-8012-09d883abc864",
   "metadata": {},
   "outputs": [
    {
     "data": {
      "text/plain": [
       "array([[25,  5,  1],\n",
       "       [ 4,  5,  7],\n",
       "       [ 5,  3,  2],\n",
       "       [ 5,  8,  4],\n",
       "       [ 1,  1,  1]])"
      ]
     },
     "execution_count": 18,
     "metadata": {},
     "output_type": "execute_result"
    }
   ],
   "source": [
    "a = np.array([[25,5,1],[4,5,7],[5,3,2],[5,8,4],[1,1,1]])\n",
    "a"
   ]
  },
  {
   "cell_type": "code",
   "execution_count": 19,
   "id": "ea5c75dc-34f3-40c6-8d44-2976ffc29da5",
   "metadata": {},
   "outputs": [
    {
     "data": {
      "text/plain": [
       "array([[ 73,  61,  42],\n",
       "       [273, 171, 117],\n",
       "       [473, 281, 192]])"
      ]
     },
     "execution_count": 19,
     "metadata": {},
     "output_type": "execute_result"
    }
   ],
   "source": [
    "x.dot(a) #this is matrix multiplication"
   ]
  },
  {
   "cell_type": "code",
   "execution_count": 21,
   "id": "672da0db-4cee-4b53-bcde-dc04c82da3fc",
   "metadata": {},
   "outputs": [
    {
     "data": {
      "text/plain": [
       "array([[25,  5,  1],\n",
       "       [ 4,  5,  7],\n",
       "       [ 5,  3,  2],\n",
       "       [ 5,  8,  4],\n",
       "       [ 1,  1,  1]])"
      ]
     },
     "execution_count": 21,
     "metadata": {},
     "output_type": "execute_result"
    }
   ],
   "source": [
    "a"
   ]
  },
  {
   "cell_type": "code",
   "execution_count": 20,
   "id": "4ae6c550-476b-4dbb-8677-6b343d664fd2",
   "metadata": {},
   "outputs": [
    {
     "data": {
      "text/plain": [
       "array([[25,  4,  5,  5,  1],\n",
       "       [ 5,  5,  3,  8,  1],\n",
       "       [ 1,  7,  2,  4,  1]])"
      ]
     },
     "execution_count": 20,
     "metadata": {},
     "output_type": "execute_result"
    }
   ],
   "source": [
    "a.transpose()"
   ]
  },
  {
   "cell_type": "code",
   "execution_count": null,
   "id": "372366a3-f1f1-41e5-9d09-9dc2b3df8613",
   "metadata": {},
   "outputs": [],
   "source": []
  }
 ],
 "metadata": {
  "kernelspec": {
   "display_name": "Python 3 (ipykernel)",
   "language": "python",
   "name": "python3"
  },
  "language_info": {
   "codemirror_mode": {
    "name": "ipython",
    "version": 3
   },
   "file_extension": ".py",
   "mimetype": "text/x-python",
   "name": "python",
   "nbconvert_exporter": "python",
   "pygments_lexer": "ipython3",
   "version": "3.11.5"
  }
 },
 "nbformat": 4,
 "nbformat_minor": 5
}

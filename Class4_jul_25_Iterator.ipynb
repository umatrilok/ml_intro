{
 "cells": [
  {
   "cell_type": "code",
   "execution_count": 1,
   "id": "87de49cf-93d6-4f90-a76f-11880341ca71",
   "metadata": {},
   "outputs": [
    {
     "data": {
      "text/plain": [
       "list"
      ]
     },
     "execution_count": 1,
     "metadata": {},
     "output_type": "execute_result"
    }
   ],
   "source": [
    "x=[10,20,30,40]\n",
    "type(x)"
   ]
  },
  {
   "cell_type": "code",
   "execution_count": 2,
   "id": "d401d5ea-aa89-4028-821d-60f49a8dbe6b",
   "metadata": {},
   "outputs": [
    {
     "data": {
      "text/plain": [
       "list_iterator"
      ]
     },
     "execution_count": 2,
     "metadata": {},
     "output_type": "execute_result"
    }
   ],
   "source": [
    "x_t = iter(x)\n",
    "type(x_t)"
   ]
  },
  {
   "cell_type": "code",
   "execution_count": 3,
   "id": "fe3f675f-f7f8-49aa-86a4-83237849340b",
   "metadata": {},
   "outputs": [
    {
     "data": {
      "text/plain": [
       "tuple"
      ]
     },
     "execution_count": 3,
     "metadata": {},
     "output_type": "execute_result"
    }
   ],
   "source": [
    "y=(10,20,30,40)\n",
    "type(y)"
   ]
  },
  {
   "cell_type": "code",
   "execution_count": 5,
   "id": "eb956c2c-ac4f-4dd4-9077-a25ec4129e57",
   "metadata": {},
   "outputs": [
    {
     "data": {
      "text/plain": [
       "set"
      ]
     },
     "execution_count": 5,
     "metadata": {},
     "output_type": "execute_result"
    }
   ],
   "source": [
    "s={10,20,30,40}\n",
    "type(s)"
   ]
  },
  {
   "cell_type": "code",
   "execution_count": 7,
   "id": "0a6bcea1-2f5d-4dfb-b2ea-1273032c9b90",
   "metadata": {},
   "outputs": [
    {
     "data": {
      "text/plain": [
       "set_iterator"
      ]
     },
     "execution_count": 7,
     "metadata": {},
     "output_type": "execute_result"
    }
   ],
   "source": [
    "s_t = iter(s)\n",
    "type(s_t)"
   ]
  },
  {
   "cell_type": "code",
   "execution_count": 8,
   "id": "2792c4cc-bc61-4ea5-ad06-52c34de851bc",
   "metadata": {},
   "outputs": [
    {
     "data": {
      "text/plain": [
       "dict"
      ]
     },
     "execution_count": 8,
     "metadata": {},
     "output_type": "execute_result"
    }
   ],
   "source": [
    "d={\"a\":10,\"b\":20,\"c\":30}\n",
    "type(d)"
   ]
  },
  {
   "cell_type": "code",
   "execution_count": 9,
   "id": "cc5a521b-5794-43b8-a53c-202f39009985",
   "metadata": {},
   "outputs": [
    {
     "data": {
      "text/plain": [
       "dict_itemiterator"
      ]
     },
     "execution_count": 9,
     "metadata": {},
     "output_type": "execute_result"
    }
   ],
   "source": [
    "d_t = iter(d.items())\n",
    "type(d_t)"
   ]
  },
  {
   "cell_type": "code",
   "execution_count": 10,
   "id": "d724606a-710f-4c51-a310-9671d40a0c8b",
   "metadata": {},
   "outputs": [
    {
     "data": {
      "text/plain": [
       "str"
      ]
     },
     "execution_count": 10,
     "metadata": {},
     "output_type": "execute_result"
    }
   ],
   "source": [
    "s1 = \"welcome\"\n",
    "type(s1)"
   ]
  },
  {
   "cell_type": "code",
   "execution_count": 11,
   "id": "01bcd548-1882-4ffa-9a50-85099cf3573f",
   "metadata": {},
   "outputs": [
    {
     "data": {
      "text/plain": [
       "str_ascii_iterator"
      ]
     },
     "execution_count": 11,
     "metadata": {},
     "output_type": "execute_result"
    }
   ],
   "source": [
    "s1_t = iter(s1)\n",
    "type(s1_t)"
   ]
  },
  {
   "cell_type": "code",
   "execution_count": 12,
   "id": "2b3fd3a9-3959-494e-8fae-3a55baaa94d7",
   "metadata": {},
   "outputs": [
    {
     "data": {
      "text/plain": [
       "range"
      ]
     },
     "execution_count": 12,
     "metadata": {},
     "output_type": "execute_result"
    }
   ],
   "source": [
    "r = range(1,10)\n",
    "type(r)"
   ]
  },
  {
   "cell_type": "code",
   "execution_count": 13,
   "id": "a891da0a-f124-4151-8eee-4c6f2ac61477",
   "metadata": {},
   "outputs": [
    {
     "data": {
      "text/plain": [
       "range_iterator"
      ]
     },
     "execution_count": 13,
     "metadata": {},
     "output_type": "execute_result"
    }
   ],
   "source": [
    "r_t = iter(r)\n",
    "type(r_t)"
   ]
  },
  {
   "cell_type": "code",
   "execution_count": 14,
   "id": "5539f483-220c-4bd1-b67a-1e22d081b7b6",
   "metadata": {},
   "outputs": [
    {
     "data": {
      "text/plain": [
       "int"
      ]
     },
     "execution_count": 14,
     "metadata": {},
     "output_type": "execute_result"
    }
   ],
   "source": [
    "a = 1234\n",
    "type(a)"
   ]
  },
  {
   "cell_type": "code",
   "execution_count": null,
   "id": "e5828eb5-30e6-4cea-a894-627215613634",
   "metadata": {},
   "outputs": [],
   "source": [
    "iterators"
   ]
  },
  {
   "cell_type": "code",
   "execution_count": 16,
   "id": "7e77f2db-5102-43c3-8fbf-a98d7b42e61a",
   "metadata": {},
   "outputs": [
    {
     "name": "stdout",
     "output_type": "stream",
     "text": [
      "10\n",
      "20\n",
      "30\n",
      "40\n"
     ]
    }
   ],
   "source": [
    "for i in {\"a\":10,\"b\":20,\"c\":30,\"d\":40}.values():\n",
    "    print(i)"
   ]
  },
  {
   "cell_type": "code",
   "execution_count": 17,
   "id": "3c1d80eb-bdd1-4240-b811-4aac184b6cd4",
   "metadata": {},
   "outputs": [
    {
     "name": "stdout",
     "output_type": "stream",
     "text": [
      "a\n",
      "b\n",
      "c\n",
      "d\n"
     ]
    }
   ],
   "source": [
    "for i in {\"a\":10,\"b\":20,\"c\":30,\"d\":40}.keys():\n",
    "    print(i)"
   ]
  },
  {
   "cell_type": "code",
   "execution_count": 18,
   "id": "1a727bdb-5a07-4fcf-9729-3f7c6a510937",
   "metadata": {},
   "outputs": [
    {
     "name": "stdout",
     "output_type": "stream",
     "text": [
      "a\n",
      "b\n",
      "c\n",
      "d\n"
     ]
    }
   ],
   "source": [
    "for i in {\"a\":10,\"b\":20,\"c\":30,\"d\":40}:\n",
    "    print(i)"
   ]
  },
  {
   "cell_type": "code",
   "execution_count": 30,
   "id": "f6fd6a97-5076-4e80-842d-f0238639f370",
   "metadata": {},
   "outputs": [],
   "source": [
    "x = [10,20,30,40,50]\n",
    "x.extend([10,20,30,40,50,60])\n",
    "x_t = iter(x)"
   ]
  },
  {
   "cell_type": "code",
   "execution_count": 31,
   "id": "5445e015-2c1d-4872-9aaf-e5a745a97816",
   "metadata": {},
   "outputs": [
    {
     "name": "stdout",
     "output_type": "stream",
     "text": [
      "[10, 20, 30, 40, 50, 10, 20, 30, 40, 50, 60]\n"
     ]
    }
   ],
   "source": [
    "#x.append(next(x_t))\n",
    "print(x)"
   ]
  },
  {
   "cell_type": "code",
   "execution_count": 33,
   "id": "313af2dd-fe5f-4191-a029-04574c9984a8",
   "metadata": {},
   "outputs": [
    {
     "name": "stdout",
     "output_type": "stream",
     "text": [
      "[10, 20, 30, 40, 50, 10, 20, 30, 40, 50, 60, 10, 20]\n"
     ]
    }
   ],
   "source": [
    "x.append(next(x_t))\n",
    "print(x)"
   ]
  },
  {
   "cell_type": "code",
   "execution_count": null,
   "id": "2206aeb0-1106-4581-b0a2-ef7e1772aa35",
   "metadata": {},
   "outputs": [],
   "source": []
  },
  {
   "cell_type": "code",
   "execution_count": null,
   "id": "3ba17e3c-dc05-48c6-be99-3173fdd2da6c",
   "metadata": {},
   "outputs": [],
   "source": []
  },
  {
   "cell_type": "code",
   "execution_count": null,
   "id": "56160613-2378-4c9d-b249-4fe556508fd8",
   "metadata": {},
   "outputs": [],
   "source": [
    "import pandas as pd\n",
    "cars = pd.read_"
   ]
  },
  {
   "cell_type": "code",
   "execution_count": null,
   "id": "622b93eb-9b15-47c2-8434-5c3daf2fc8ae",
   "metadata": {},
   "outputs": [],
   "source": []
  },
  {
   "cell_type": "code",
   "execution_count": null,
   "id": "7130f13c-262c-4bf7-b893-feb97e41ffbc",
   "metadata": {},
   "outputs": [],
   "source": []
  }
 ],
 "metadata": {
  "kernelspec": {
   "display_name": "Python 3 (ipykernel)",
   "language": "python",
   "name": "python3"
  },
  "language_info": {
   "codemirror_mode": {
    "name": "ipython",
    "version": 3
   },
   "file_extension": ".py",
   "mimetype": "text/x-python",
   "name": "python",
   "nbconvert_exporter": "python",
   "pygments_lexer": "ipython3",
   "version": "3.11.5"
  }
 },
 "nbformat": 4,
 "nbformat_minor": 5
}
